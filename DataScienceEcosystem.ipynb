{
 "cells": [
  {
   "cell_type": "markdown",
   "id": "9fb07d42-0f4a-41a1-bd0b-d4d2b4afd3fd",
   "metadata": {},
   "source": [
    "# Data Science Tools and Ecosystem"
   ]
  },
  {
   "cell_type": "markdown",
   "id": "2136ed8d-e19f-4999-97f1-5a71e0c258cc",
   "metadata": {},
   "source": [
    "In this notebook, Data Science Tools and Ecosystem are summarized."
   ]
  },
  {
   "cell_type": "markdown",
   "id": "e813f128-6e40-445b-886c-619808593183",
   "metadata": {},
   "source": [
    "* ***Objectives:***\n",
    "    * Programming Languages\n",
    "        + Python\n",
    "        + R \n",
    "    * Data Managagement\n",
    "        + SQL\n",
    "        + Git (and GitHub)\n",
    "    * IDEs\n",
    "        + Jupyter Notebook\n",
    "        + RStudio"
   ]
  },
  {
   "cell_type": "markdown",
   "id": "c4f8f0b8-94ef-42a7-b930-0638857f68f2",
   "metadata": {},
   "source": [
    "- Some of the popular languages that Data Scientists use are:\n",
    "    1. Python\n",
    "    2. R\n",
    "    3. JavaScript"
   ]
  },
  {
   "cell_type": "markdown",
   "id": "3d790dcc-745a-414c-98c0-48ffbf8f3088",
   "metadata": {},
   "source": [
    "- Some of the commonly used libraries used by Data Scientists include:\n",
    "    1. Pandas\n",
    "    2. NumPy\n",
    "    3. scikit-learn"
   ]
  },
  {
   "cell_type": "markdown",
   "id": "d1916a91-6760-4445-925b-a95496093324",
   "metadata": {},
   "source": [
    "| Data Science Tools |\n",
    "| ------------------ |\n",
    "| Jupyter Notebooks |\n",
    "| RStudio |\n",
    "| Apache Zeppelin |"
   ]
  },
  {
   "cell_type": "markdown",
   "id": "05522eaf-0a4d-4935-8911-c00982eba1b4",
   "metadata": {},
   "source": [
    "### Below are a few examples of evaluating arithmetic expressions in Python"
   ]
  },
  {
   "cell_type": "code",
   "execution_count": 33,
   "id": "2bd44f94-bf43-43ee-bddf-cd2552182506",
   "metadata": {},
   "outputs": [
    {
     "data": {
      "text/plain": [
       "17"
      ]
     },
     "execution_count": 33,
     "metadata": {},
     "output_type": "execute_result"
    }
   ],
   "source": [
    "# Simple arithmetic\n",
    "(3*4)+5"
   ]
  },
  {
   "cell_type": "code",
   "execution_count": 37,
   "id": "f4cd13b8-d684-4bc4-b468-d8f34d853db3",
   "metadata": {},
   "outputs": [
    {
     "data": {
      "text/plain": [
       "3.3333333333333335"
      ]
     },
     "execution_count": 37,
     "metadata": {},
     "output_type": "execute_result"
    }
   ],
   "source": [
    "# 200 minutes into hours with round-off error\n",
    "200/60"
   ]
  },
  {
   "cell_type": "code",
   "execution_count": 53,
   "id": "4a6c6331-a3f1-42cf-828b-9e4b136ba607",
   "metadata": {},
   "outputs": [
    {
     "data": {
      "text/plain": [
       "3.3333333333333335"
      ]
     },
     "execution_count": 53,
     "metadata": {},
     "output_type": "execute_result"
    }
   ],
   "source": [
    "# DateTime objects\n",
    "import datetime\n",
    "time = datetime.timedelta(0,0,0,0,200,0,0)\n",
    "time2 = datetime.timedelta(0,0,0,0,60,0,0)\n",
    "time/time2"
   ]
  },
  {
   "cell_type": "markdown",
   "id": "8ab84a9f-d768-40b0-bbde-32bf27728c5b",
   "metadata": {},
   "source": [
    "## Author\n",
    "Gregory Williams"
   ]
  },
  {
   "cell_type": "code",
   "execution_count": null,
   "id": "236dbf03-ec9a-4457-bcc2-3c2264e454d0",
   "metadata": {},
   "outputs": [],
   "source": []
  }
 ],
 "metadata": {
  "kernelspec": {
   "display_name": "Python [conda env:base] *",
   "language": "python",
   "name": "conda-base-py"
  },
  "language_info": {
   "codemirror_mode": {
    "name": "ipython",
    "version": 3
   },
   "file_extension": ".py",
   "mimetype": "text/x-python",
   "name": "python",
   "nbconvert_exporter": "python",
   "pygments_lexer": "ipython3",
   "version": "3.12.7"
  }
 },
 "nbformat": 4,
 "nbformat_minor": 5
}
